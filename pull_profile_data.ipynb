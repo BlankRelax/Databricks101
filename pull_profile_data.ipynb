{
 "cells": [
  {
   "cell_type": "code",
   "execution_count": 0,
   "metadata": {
    "application/vnd.databricks.v1+cell": {
     "cellMetadata": {
      "byteLimit": 2048000,
      "rowLimit": 10000
     },
     "inputWidgets": {},
     "nuid": "3e448c75-39c8-4262-a9b6-53cb4ec145d5",
     "showTitle": false,
     "tableResultSettingsMap": {},
     "title": ""
    }
   },
   "outputs": [],
   "source": [
    "import requests\n",
    "import json\n",
    "import time\n",
    "\n",
    "import pyspark\n",
    "\n",
    "from pyspark.sql import DataFrame, SparkSession\n",
    "from typing import List\n",
    "\n",
    "import pyspark.pandas as pspd\n",
    "\n",
    "spark= SparkSession \\\n",
    "       .builder \\\n",
    "       .appName(\"PySpark Server\") \\\n",
    "       .getOrCreate()\n",
    "\n",
    "spark.conf.set(\"spark.sql.ansi.enabled\", \"false\")\n",
    "spark\n"
   ]
  },
  {
   "cell_type": "code",
   "execution_count": 0,
   "metadata": {
    "application/vnd.databricks.v1+cell": {
     "cellMetadata": {
      "byteLimit": 2048000,
      "rowLimit": 10000
     },
     "inputWidgets": {},
     "nuid": "355e7ed9-3d59-4f6f-80ce-afef03fac106",
     "showTitle": false,
     "tableResultSettingsMap": {},
     "title": ""
    }
   },
   "outputs": [],
   "source": [
    "\n",
    "next = True\n",
    "page_count=100\n",
    "payload = {\"options\":{\"cellFormat\":\"string\"},\"pageContext\":None,\"pagingOption\":{\"offset\":None,\"count\":page_count},\"filterCriteria\":{}} \n",
    "columns = ['id', 'Ethnicity', 'Age','Gender', 'Appearance' ]\n",
    "limit =100000\n",
    "count=0\n",
    "while next and count<=limit:\n",
    "    data=[]\n",
    "    r=requests.post(url=\"\"\"https://profiles.sunnahnikah.co/v1/datasource/airtable/53c28e05-67eb-4322-be23-ea1ac768c030/5a6b22a4-3c1c-411a-b1f0-2671ada07826/7f5c2698-daa0-408d-856d-f4a773818f77/eee4fb36-5b78-4c00-81d3-2f59d5b5ade6/data\"\"\", json=payload).json()\n",
    "    for i in range(len(r.get(\"records\"))):\n",
    "        data.append((r.get(\"records\")[i][\"id\"],r.get(\"records\")[i].get(\"fields\").get(\"Ethnicity\"),r.get(\"records\")[i].get(\"fields\").get(\"Age\"),r.get(\"records\")[i].get(\"fields\").get(\"Gender\"), r.get(\"records\")[i].get(\"fields\").get('Appearance')))\n",
    "        \n",
    "    if count==0:\n",
    "        #init df\n",
    "        profiles_df = pspd.DataFrame(data = data, columns= columns)\n",
    "    else:\n",
    "        temp_df = pspd.DataFrame(data = data, columns= columns)\n",
    "        profiles_df=pspd.concat(objs=[profiles_df, temp_df])\n",
    "\n",
    "    if r.get(\"offset\") is None:\n",
    "        next=False\n",
    "    payload[\"pagingOption\"][\"offset\"] = r[\"offset\"]\n",
    "    #print(data)\n",
    "    time.sleep(2.5)\n",
    "    count+=1\n",
    "    print(count)\n",
    "    print(r.get(\"records\")[i].get(\"fields\"))\n",
    "\n",
    "\n"
   ]
  },
  {
   "cell_type": "code",
   "execution_count": 0,
   "metadata": {
    "application/vnd.databricks.v1+cell": {
     "cellMetadata": {
      "byteLimit": 2048000,
      "rowLimit": 10000
     },
     "inputWidgets": {},
     "nuid": "c46536a9-f237-48c4-92f2-c5e398424bd8",
     "showTitle": false,
     "tableResultSettingsMap": {},
     "title": ""
    }
   },
   "outputs": [],
   "source": [
    "profiles_df.head(10)"
   ]
  },
  {
   "cell_type": "code",
   "execution_count": 0,
   "metadata": {
    "application/vnd.databricks.v1+cell": {
     "cellMetadata": {
      "byteLimit": 2048000,
      "rowLimit": 10000
     },
     "inputWidgets": {},
     "nuid": "5222ebf9-da79-455d-9a39-f3d8c08295d0",
     "showTitle": false,
     "tableResultSettingsMap": {},
     "title": ""
    }
   },
   "outputs": [],
   "source": [
    "\n",
    "def clean(x):\n",
    "    if x.Age == '':\n",
    "        x.Age= 999\n",
    "    else:\n",
    "        x.Age = int(x.Age)\n",
    "\n",
    "    x.Appearance = x.Appearance.strip()\n",
    "    if x.Appearance == '':\n",
    "        x.Appearance= 'Nan'\n",
    "    elif x.Appearance[-1]==',':\n",
    "        x.Appearance= x.Appearance[:-1]\n",
    "    return(x)\n",
    "profiles_df=profiles_df.apply(clean, axis=1)"
   ]
  },
  {
   "cell_type": "code",
   "execution_count": 0,
   "metadata": {
    "application/vnd.databricks.v1+cell": {
     "cellMetadata": {
      "byteLimit": 2048000,
      "rowLimit": 10000
     },
     "inputWidgets": {},
     "nuid": "c7ea79f3-def2-4d64-93f6-920ab58b0557",
     "showTitle": false,
     "tableResultSettingsMap": {},
     "title": ""
    }
   },
   "outputs": [],
   "source": [
    "print(profiles_df.shape)"
   ]
  },
  {
   "cell_type": "code",
   "execution_count": 0,
   "metadata": {
    "application/vnd.databricks.v1+cell": {
     "cellMetadata": {
      "byteLimit": 2048000,
      "rowLimit": 10000
     },
     "inputWidgets": {},
     "nuid": "9ad6d7ca-9ae6-47d8-ab55-226913a00aac",
     "showTitle": false,
     "tableResultSettingsMap": {},
     "title": ""
    }
   },
   "outputs": [],
   "source": [
    "# write it to csv\n",
    "profiles_df.to_csv(path=\"/Volumes/sn_demo/default/vol1/sn_profiles\", mode='w')\n",
    "\n",
    "# save to sql warehouse\n",
    "catalog = \"dev\"\n",
    "schema = \"default\"\n",
    "table_name = \"sn_profiles\"\n",
    "path_table = catalog + \".\" + schema\n",
    "print(path_table) # Show the complete path\n",
    "profiles_df.to_table(name=f\"{path_table}.{table_name}\")\n"
   ]
  },
  {
   "cell_type": "code",
   "execution_count": 0,
   "metadata": {
    "application/vnd.databricks.v1+cell": {
     "cellMetadata": {
      "byteLimit": 2048000,
      "rowLimit": 10000
     },
     "inputWidgets": {},
     "nuid": "7621cd95-c66c-4bd8-bbd7-0e5ac9d46e67",
     "showTitle": false,
     "tableResultSettingsMap": {},
     "title": ""
    }
   },
   "outputs": [],
   "source": [
    "def perform_hist_analysis(df:pspd.DataFrame):\n",
    "\n",
    "    hist=df.hist('Age', bins=50)\n",
    "    print(F\"mean age: {df['Age'].mean()}\")\n",
    "    print(F\"most frequent age: {df['Age'].mode()}\")\n",
    "    hist[0][0].set_xlim(0,100)\n",
    "    return None"
   ]
  },
  {
   "cell_type": "code",
   "execution_count": 0,
   "metadata": {
    "application/vnd.databricks.v1+cell": {
     "cellMetadata": {
      "byteLimit": 2048000,
      "rowLimit": 10000
     },
     "inputWidgets": {},
     "nuid": "3cd89ed3-a80b-42b9-b948-7ae3f602275d",
     "showTitle": false,
     "tableResultSettingsMap": {},
     "title": ""
    }
   },
   "outputs": [],
   "source": [
    "perform_hist_analysis(profiles_df[profiles_df[\"Gender\"]==\"Male\"])\n",
    "net=profiles_df.shape[0]\n",
    "print(f\"Fraction of Males: {profiles_df[profiles_df['Gender']=='Male'].shape[0]/net}\")"
   ]
  },
  {
   "cell_type": "code",
   "execution_count": 0,
   "metadata": {
    "application/vnd.databricks.v1+cell": {
     "cellMetadata": {
      "byteLimit": 2048000,
      "rowLimit": 10000
     },
     "inputWidgets": {},
     "nuid": "7d2966a7-4792-4ec8-a681-973a805f51d7",
     "showTitle": false,
     "tableResultSettingsMap": {},
     "title": ""
    }
   },
   "outputs": [],
   "source": [
    "perform_hist_analysis(profiles_pandas_df[profiles_pandas_df[\"Gender\"]==\"Female\"])\n",
    "print(f\"Percentage of Females:{profiles_pandas_df[profiles_pandas_df['Gender']=='Female'].shape[0]/net}\")"
   ]
  },
  {
   "cell_type": "code",
   "execution_count": 0,
   "metadata": {
    "application/vnd.databricks.v1+cell": {
     "cellMetadata": {
      "byteLimit": 2048000,
      "rowLimit": 10000
     },
     "inputWidgets": {},
     "nuid": "b7779839-8c1b-4d34-95a3-769ed52d16ae",
     "showTitle": false,
     "tableResultSettingsMap": {},
     "title": ""
    }
   },
   "outputs": [],
   "source": [
    "profiles_pandas_df.Appearance.unique()"
   ]
  },
  {
   "cell_type": "code",
   "execution_count": 0,
   "metadata": {
    "application/vnd.databricks.v1+cell": {
     "cellMetadata": {
      "byteLimit": 2048000,
      "rowLimit": 10000
     },
     "inputWidgets": {},
     "nuid": "d2244b2b-8ff6-4e16-82a6-6691a6cab57e",
     "showTitle": false,
     "tableResultSettingsMap": {},
     "title": ""
    }
   },
   "outputs": [],
   "source": [
    "apperance_count =profiles_pandas_df.groupby('Appearance').count()\n",
    "print(apperance_count)\n",
    "hist=apperance_count.plot.bar(y='id')"
   ]
  }
 ],
 "metadata": {
  "application/vnd.databricks.v1+notebook": {
   "computePreferences": {
    "hardware": {
     "accelerator": null,
     "gpuPoolId": null,
     "memory": null
    }
   },
   "dashboards": [],
   "environmentMetadata": {
    "base_environment": "",
    "dependencies": [
     "requests==2.32.3"
    ],
    "environment_version": "2"
   },
   "language": "python",
   "notebookMetadata": {
    "pythonIndentUnit": 4
   },
   "notebookName": "pull_profile_data",
   "widgets": {}
  },
  "language_info": {
   "name": "python"
  }
 },
 "nbformat": 4,
 "nbformat_minor": 0
}
