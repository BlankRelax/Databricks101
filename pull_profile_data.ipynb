{
 "cells": [
  {
   "cell_type": "code",
   "execution_count": 0,
   "metadata": {
    "application/vnd.databricks.v1+cell": {
     "cellMetadata": {
      "byteLimit": 2048000,
      "rowLimit": 10000
     },
     "inputWidgets": {},
     "nuid": "3e448c75-39c8-4262-a9b6-53cb4ec145d5",
     "showTitle": false,
     "tableResultSettingsMap": {},
     "title": ""
    }
   },
   "outputs": [],
   "source": [
    "import requests\n",
    "import json\n",
    "import time\n",
    "import pandas as pd\n",
    "\n",
    "import pyspark\n",
    "\n",
    "from pyspark.sql import DataFrame, SparkSession\n",
    "from typing import List\n",
    "import pyspark.sql.types as T\n",
    "import pyspark.sql.functions as F\n",
    "from pyspark.sql.functions import col, when\n",
    "from pyspark.sql.functions import concat\n",
    "\n",
    "\n",
    "spark= SparkSession \\\n",
    "       .builder \\\n",
    "       .appName(\"PySpark Server\") \\\n",
    "       .getOrCreate()\n",
    "\n",
    "spark\n"
   ]
  },
  {
   "cell_type": "code",
   "execution_count": 0,
   "metadata": {
    "application/vnd.databricks.v1+cell": {
     "cellMetadata": {
      "byteLimit": 2048000,
      "rowLimit": 10000
     },
     "inputWidgets": {},
     "nuid": "355e7ed9-3d59-4f6f-80ce-afef03fac106",
     "showTitle": false,
     "tableResultSettingsMap": {},
     "title": ""
    }
   },
   "outputs": [],
   "source": [
    "\n",
    "next = True\n",
    "page_count=100\n",
    "payload = {\"options\":{\"cellFormat\":\"string\"},\"pageContext\":None,\"pagingOption\":{\"offset\":None,\"count\":page_count},\"filterCriteria\":{}} \n",
    "columns = ['id', 'Ethnicity', 'Age','Gender', 'Appearance' ]\n",
    "limit =500\n",
    "count=0\n",
    "while next and count<=limit:\n",
    "    data=[]\n",
    "    r=requests.post(url=\"\"\"https://profiles.sunnahnikah.co/v1/datasource/airtable/53c28e05-67eb-4322-be23-ea1ac768c030/5a6b22a4-3c1c-411a-b1f0-2671ada07826/7f5c2698-daa0-408d-856d-f4a773818f77/eee4fb36-5b78-4c00-81d3-2f59d5b5ade6/data\"\"\", json=payload).json()\n",
    "    for i in range(len(r.get(\"records\"))):\n",
    "        data.append((r.get(\"records\")[i][\"id\"],r.get(\"records\")[i].get(\"fields\").get(\"Ethnicity\"),r.get(\"records\")[i].get(\"fields\").get(\"Age\"),r.get(\"records\")[i].get(\"fields\").get(\"Gender\"), r.get(\"records\")[i].get(\"fields\").get('Appearance')))\n",
    "        \n",
    "    if count==0:\n",
    "        #init df\n",
    "        profiles_df = spark.createDataFrame(data = data, schema= columns)\n",
    "    else:\n",
    "        temp_df = spark.createDataFrame(data = data, schema= columns)\n",
    "        profiles_df=profiles_df.union(temp_df)\n",
    "\n",
    "    if r.get(\"offset\") is None:\n",
    "        next=False\n",
    "    payload[\"pagingOption\"][\"offset\"] = r[\"offset\"]\n",
    "    #print(data)\n",
    "    time.sleep(2.5)\n",
    "    count+=1\n",
    "    print(count)\n",
    "    print(r.get(\"records\")[i].get(\"fields\"))\n",
    "\n",
    "\n"
   ]
  },
  {
   "cell_type": "code",
   "execution_count": 0,
   "metadata": {
    "application/vnd.databricks.v1+cell": {
     "cellMetadata": {
      "byteLimit": 2048000,
      "rowLimit": 10000
     },
     "inputWidgets": {},
     "nuid": "c46536a9-f237-48c4-92f2-c5e398424bd8",
     "showTitle": false,
     "tableResultSettingsMap": {},
     "title": ""
    }
   },
   "outputs": [],
   "source": [
    "profiles_df.show(100)"
   ]
  },
  {
   "cell_type": "code",
   "execution_count": 0,
   "metadata": {
    "application/vnd.databricks.v1+cell": {
     "cellMetadata": {
      "byteLimit": 2048000,
      "rowLimit": 10000
     },
     "inputWidgets": {},
     "nuid": "1cf502f8-98ea-4418-88cc-e9255f59164d",
     "showTitle": false,
     "tableResultSettingsMap": {},
     "title": ""
    }
   },
   "outputs": [],
   "source": [
    "profiles_df.write.mode(\"overwrite\").format(\"csv\").option(\"header\", \"true\").save(\"/Volumes/sn_demo/default/vol1/sn_profiles.csv\")"
   ]
  },
  {
   "cell_type": "code",
   "execution_count": 0,
   "metadata": {
    "application/vnd.databricks.v1+cell": {
     "cellMetadata": {
      "byteLimit": 2048000,
      "rowLimit": 10000
     },
     "inputWidgets": {},
     "nuid": "5222ebf9-da79-455d-9a39-f3d8c08295d0",
     "showTitle": false,
     "tableResultSettingsMap": {},
     "title": ""
    }
   },
   "outputs": [],
   "source": [
    "profiles_pandas_df = profiles_df.toPandas()\n",
    "def to_int(x):\n",
    "    if x[2] =='':\n",
    "        x[2] = 999\n",
    "    return [x[0], x[1], int(x[2]), x[3]]\n",
    "profiles_pandas_df=profiles_pandas_df.apply(to_int, axis=1, result_type='broadcast')\n",
    "profiles_pandas_df['Age'] = profiles_pandas_df['Age'].astype(int)"
   ]
  },
  {
   "cell_type": "code",
   "execution_count": 0,
   "metadata": {
    "application/vnd.databricks.v1+cell": {
     "cellMetadata": {
      "byteLimit": 2048000,
      "rowLimit": 10000
     },
     "inputWidgets": {},
     "nuid": "c7ea79f3-def2-4d64-93f6-920ab58b0557",
     "showTitle": false,
     "tableResultSettingsMap": {},
     "title": ""
    }
   },
   "outputs": [],
   "source": [
    "print(profiles_pandas_df)"
   ]
  },
  {
   "cell_type": "code",
   "execution_count": 0,
   "metadata": {
    "application/vnd.databricks.v1+cell": {
     "cellMetadata": {
      "byteLimit": 2048000,
      "rowLimit": 10000
     },
     "inputWidgets": {},
     "nuid": "7621cd95-c66c-4bd8-bbd7-0e5ac9d46e67",
     "showTitle": false,
     "tableResultSettingsMap": {},
     "title": ""
    }
   },
   "outputs": [],
   "source": [
    "def perform_hist_analysis(df:pd.DataFrame):\n",
    "\n",
    "    hist=df.hist('Age', bins=50)\n",
    "    print(F\"mean age: {df['Age'].mean()}\")\n",
    "    print(F\"most frequent age: {df['Age'].mode()}\")\n",
    "    hist[0][0].set_xlim(0,100)\n",
    "    return None"
   ]
  },
  {
   "cell_type": "code",
   "execution_count": 0,
   "metadata": {
    "application/vnd.databricks.v1+cell": {
     "cellMetadata": {
      "byteLimit": 2048000,
      "rowLimit": 10000
     },
     "inputWidgets": {},
     "nuid": "3cd89ed3-a80b-42b9-b948-7ae3f602275d",
     "showTitle": false,
     "tableResultSettingsMap": {},
     "title": ""
    }
   },
   "outputs": [],
   "source": [
    "perform_hist_analysis(profiles_pandas_df[profiles_pandas_df[\"Gender\"]==\"Male\"])"
   ]
  },
  {
   "cell_type": "code",
   "execution_count": 0,
   "metadata": {
    "application/vnd.databricks.v1+cell": {
     "cellMetadata": {
      "byteLimit": 2048000,
      "rowLimit": 10000
     },
     "inputWidgets": {},
     "nuid": "7d2966a7-4792-4ec8-a681-973a805f51d7",
     "showTitle": false,
     "tableResultSettingsMap": {},
     "title": ""
    }
   },
   "outputs": [],
   "source": [
    "perform_hist_analysis(profiles_pandas_df[profiles_pandas_df[\"Gender\"]==\"Female\"])"
   ]
  }
 ],
 "metadata": {
  "application/vnd.databricks.v1+notebook": {
   "computePreferences": {
    "hardware": {
     "accelerator": null,
     "gpuPoolId": null,
     "memory": null
    }
   },
   "dashboards": [],
   "environmentMetadata": {
    "base_environment": "",
    "dependencies": [
     "requests==2.32.3"
    ],
    "environment_version": "2"
   },
   "language": "python",
   "notebookMetadata": {
    "pythonIndentUnit": 4
   },
   "notebookName": "pull_profile_data",
   "widgets": {}
  },
  "language_info": {
   "name": "python"
  }
 },
 "nbformat": 4,
 "nbformat_minor": 0
}
